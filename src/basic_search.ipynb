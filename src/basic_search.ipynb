{
 "cells": [
  {
   "cell_type": "code",
   "execution_count": 1,
   "id": "6294b764-80f2-4a8c-8c0b-ea42c866a9fe",
   "metadata": {},
   "outputs": [
    {
     "name": "stdout",
     "output_type": "stream",
     "text": [
      "Requirement already satisfied: json2html in /usr/local/Cellar/jupyterlab/4.1.6_1/libexec/lib/python3.12/site-packages (1.3.0)\n",
      "\n",
      "\u001b[1m[\u001b[0m\u001b[34;49mnotice\u001b[0m\u001b[1;39;49m]\u001b[0m\u001b[39;49m A new release of pip is available: \u001b[0m\u001b[31;49m24.0\u001b[0m\u001b[39;49m -> \u001b[0m\u001b[32;49m24.3.1\u001b[0m\n",
      "\u001b[1m[\u001b[0m\u001b[34;49mnotice\u001b[0m\u001b[1;39;49m]\u001b[0m\u001b[39;49m To update, run: \u001b[0m\u001b[32;49m/usr/local/Cellar/jupyterlab/4.1.6_1/libexec/bin/python -m pip install --upgrade pip\u001b[0m\n",
      "Note: you may need to restart the kernel to use updated packages.\n"
     ]
    }
   ],
   "source": [
    "pip install json2html"
   ]
  },
  {
   "cell_type": "code",
   "execution_count": 2,
   "id": "5a54b9a8-5f3e-4e5d-bec3-315473c88090",
   "metadata": {},
   "outputs": [],
   "source": [
    "import requests\n",
    "import json\n",
    "from json2html import json2html\n",
    "from IPython.display import HTML"
   ]
  },
  {
   "cell_type": "code",
   "execution_count": 3,
   "id": "30091e55-a60c-4648-8457-1c56b2ae8896",
   "metadata": {},
   "outputs": [],
   "source": [
    "def exec_query(query_txt):\n",
    "    url = \"http://localhost:8080/search/\"\n",
    "    headers = {\n",
    "        \"Content-Type\": \"application/json\"\n",
    "    }\n",
    "    print(query_txt)\n",
    "    response = requests.post(url, headers=headers, data=json.dumps(query_txt))\n",
    "    query_output = response.text\n",
    "    if response.status_code == 200:\n",
    "        print(\"POST request was successful\")\n",
    "        table_html = json2html.convert(json=query_output)   \n",
    "        return table_html\n",
    "    else:\n",
    "        print(f\"POST request failed with status code {response.status_code}.\")\n",
    "        print(response.text)"
   ]
  },
  {
   "cell_type": "code",
   "execution_count": 15,
   "id": "b13b81b1-312d-4394-9851-bf80ef93a621",
   "metadata": {},
   "outputs": [
    {
     "name": "stdout",
     "output_type": "stream",
     "text": [
      "{'yql': \"select * from product where category contains 'Audio' and price < 50\", 'hits': 10}\n",
      "POST request was successful\n"
     ]
    },
    {
     "data": {
      "text/html": [
       "<table border=\"1\"><tr><th>root</th><td><table border=\"1\"><tr><th>id</th><td>toplevel</td></tr><tr><th>relevance</th><td>1.0</td></tr><tr><th>fields</th><td><table border=\"1\"><tr><th>totalCount</th><td>1</td></tr></table></td></tr><tr><th>coverage</th><td><table border=\"1\"><tr><th>coverage</th><td>100</td></tr><tr><th>documents</th><td>5</td></tr><tr><th>full</th><td>True</td></tr><tr><th>nodes</th><td>1</td></tr><tr><th>results</th><td>1</td></tr><tr><th>resultsFull</th><td>1</td></tr></table></td></tr><tr><th>children</th><td><table border=\"1\"><thead><tr><th>id</th><th>relevance</th><th>source</th><th>fields</th></tr></thead><tbody><tr><td>id:product:product::4</td><td>0.0017429193899782135</td><td>product</td><td><table border=\"1\"><tr><th>sddocname</th><td>product</td></tr><tr><th>documentid</th><td>id:product:product::4</td></tr><tr><th>title</th><td>Bluetooth Speaker</td></tr><tr><th>description</th><td>Portable Bluetooth speaker with excellent sound quality and waterproof design.</td></tr><tr><th>category</th><td>Audio</td></tr><tr><th>price</th><td>49.03</td></tr><tr><th>availability</th><td>True</td></tr></table></td></tr></tbody></table></td></tr></table></td></tr></table>"
      ],
      "text/plain": [
       "<IPython.core.display.HTML object>"
      ]
     },
     "execution_count": 15,
     "metadata": {},
     "output_type": "execute_result"
    }
   ],
   "source": [
    "# Structured text search\n",
    "query = { \n",
    "    \"yql\": \"select * from product where category contains 'Audio' and price < 50\",\n",
    "    \"hits\":10\n",
    "}\n",
    "HTML(exec_query(query))"
   ]
  },
  {
   "cell_type": "code",
   "execution_count": 21,
   "id": "ebd0e111-ded0-4a9f-88c4-e6ef123c646f",
   "metadata": {},
   "outputs": [
    {
     "name": "stdout",
     "output_type": "stream",
     "text": [
      "{'yql': 'select * from sources * where userQuery()', 'query': 'Wireless', 'type': 'all', 'hits': 10}\n",
      "POST request was successful\n"
     ]
    },
    {
     "data": {
      "text/html": [
       "<table border=\"1\"><tr><th>root</th><td><table border=\"1\"><tr><th>id</th><td>toplevel</td></tr><tr><th>relevance</th><td>1.0</td></tr><tr><th>fields</th><td><table border=\"1\"><tr><th>totalCount</th><td>1</td></tr></table></td></tr><tr><th>coverage</th><td><table border=\"1\"><tr><th>coverage</th><td>100</td></tr><tr><th>documents</th><td>5</td></tr><tr><th>full</th><td>True</td></tr><tr><th>nodes</th><td>1</td></tr><tr><th>results</th><td>1</td></tr><tr><th>resultsFull</th><td>1</td></tr></table></td></tr><tr><th>children</th><td><table border=\"1\"><thead><tr><th>id</th><th>relevance</th><th>source</th><th>fields</th></tr></thead><tbody><tr><td>id:product:product::1</td><td>0.264876972425194</td><td>product</td><td><table border=\"1\"><tr><th>sddocname</th><td>product</td></tr><tr><th>documentid</th><td>id:product:product::1</td></tr><tr><th>title</th><td>Wireless Earbuds</td></tr><tr><th>description</th><td>High-quality wireless earbuds with noise cancellation and long battery life.</td></tr><tr><th>category</th><td>Electronics</td></tr><tr><th>price</th><td>79.99</td></tr><tr><th>availability</th><td>True</td></tr></table></td></tr></tbody></table></td></tr></table></td></tr></table>"
      ],
      "text/plain": [
       "<IPython.core.display.HTML object>"
      ]
     },
     "execution_count": 21,
     "metadata": {},
     "output_type": "execute_result"
    }
   ],
   "source": [
    "# Full-text search\n",
    "# userQuery() searches in fieldset which is given in schema(title, description)\n",
    "query = { \n",
    "    \"yql\": \"select * from sources * where userQuery()\",\n",
    "    \"query\": \"Wireless\",\n",
    "    \"hits\":10\n",
    "}\n",
    "HTML(exec_query(query))"
   ]
  },
  {
   "cell_type": "code",
   "execution_count": 28,
   "id": "2075666c-0932-40ba-a870-ec4a2c06b666",
   "metadata": {},
   "outputs": [
    {
     "name": "stdout",
     "output_type": "stream",
     "text": [
      "{'yql': 'select * from sources * where userQuery()', 'query': 'portable Adjustable', 'model.defaultIndex': 'description', 'hits': 10}\n",
      "POST request was successful\n"
     ]
    },
    {
     "data": {
      "text/html": [
       "<table border=\"1\"><tr><th>root</th><td><table border=\"1\"><tr><th>id</th><td>toplevel</td></tr><tr><th>relevance</th><td>1.0</td></tr><tr><th>fields</th><td><table border=\"1\"><tr><th>totalCount</th><td>2</td></tr></table></td></tr><tr><th>coverage</th><td><table border=\"1\"><tr><th>coverage</th><td>100</td></tr><tr><th>documents</th><td>5</td></tr><tr><th>full</th><td>True</td></tr><tr><th>nodes</th><td>1</td></tr><tr><th>results</th><td>1</td></tr><tr><th>resultsFull</th><td>1</td></tr></table></td></tr><tr><th>children</th><td><table border=\"1\"><thead><tr><th>id</th><th>relevance</th><th>source</th><th>fields</th></tr></thead><tbody><tr><td>id:product:product::4</td><td>0.1841265605328276</td><td>product</td><td><table border=\"1\"><tr><th>sddocname</th><td>product</td></tr><tr><th>documentid</th><td>id:product:product::4</td></tr><tr><th>title</th><td>Bluetooth Speaker</td></tr><tr><th>description</th><td>Portable Bluetooth speaker with excellent sound quality and waterproof design.</td></tr><tr><th>category</th><td>Audio</td></tr><tr><th>price</th><td>49.03</td></tr><tr><th>availability</th><td>True</td></tr></table></td></tr><tr><td>id:product:product::5</td><td>0.18315757726516252</td><td>product</td><td><table border=\"1\"><tr><th>sddocname</th><td>product</td></tr><tr><th>documentid</th><td>id:product:product::5</td></tr><tr><th>title</th><td>Smartphone Stand</td></tr><tr><th>description</th><td>Adjustable stand for smartphones, ideal for watching videos and video calls.</td></tr><tr><th>category</th><td>Accessories</td></tr><tr><th>price</th><td>15.25</td></tr><tr><th>availability</th><td>True</td></tr></table></td></tr></tbody></table></td></tr></table></td></tr></table>"
      ],
      "text/plain": [
       "<IPython.core.display.HTML object>"
      ]
     },
     "execution_count": 28,
     "metadata": {},
     "output_type": "execute_result"
    }
   ],
   "source": [
    "# Full-text search\n",
    "# if fieldset is not given, index can be used(field or fieldset). \n",
    "# portable or adjustable has to present in the description. If we need to check if both the words are present we can use 'type' as 'all'\n",
    "query = { \n",
    "    \"yql\": \"select * from sources * where userQuery()\",\n",
    "    \"query\": \"portable Adjustable\",\n",
    "    \"model.defaultIndex\": \"description\",\n",
    "    # \"type\":\"all\",\n",
    "    \"hits\":10\n",
    "}\n",
    "HTML(exec_query(query))"
   ]
  },
  {
   "cell_type": "code",
   "execution_count": 23,
   "id": "b44d4224-eafa-450c-9941-ef1017284659",
   "metadata": {},
   "outputs": [
    {
     "name": "stdout",
     "output_type": "stream",
     "text": [
      "{'yql': \"select * from sources * where userQuery() AND category contains 'Electronics' and price > 50\", 'query': 'Wireless', 'hits': 10}\n",
      "POST request was successful\n"
     ]
    },
    {
     "data": {
      "text/html": [
       "<table border=\"1\"><tr><th>root</th><td><table border=\"1\"><tr><th>id</th><td>toplevel</td></tr><tr><th>relevance</th><td>1.0</td></tr><tr><th>fields</th><td><table border=\"1\"><tr><th>totalCount</th><td>1</td></tr></table></td></tr><tr><th>coverage</th><td><table border=\"1\"><tr><th>coverage</th><td>100</td></tr><tr><th>documents</th><td>5</td></tr><tr><th>full</th><td>True</td></tr><tr><th>nodes</th><td>1</td></tr><tr><th>results</th><td>1</td></tr><tr><th>resultsFull</th><td>1</td></tr></table></td></tr><tr><th>children</th><td><table border=\"1\"><thead><tr><th>id</th><th>relevance</th><th>source</th><th>fields</th></tr></thead><tbody><tr><td>id:product:product::1</td><td>0.26661989181517215</td><td>product</td><td><table border=\"1\"><tr><th>sddocname</th><td>product</td></tr><tr><th>documentid</th><td>id:product:product::1</td></tr><tr><th>title</th><td>Wireless Earbuds</td></tr><tr><th>description</th><td>High-quality wireless earbuds with noise cancellation and long battery life.</td></tr><tr><th>category</th><td>Electronics</td></tr><tr><th>price</th><td>79.99</td></tr><tr><th>availability</th><td>True</td></tr></table></td></tr></tbody></table></td></tr></table></td></tr></table>"
      ],
      "text/plain": [
       "<IPython.core.display.HTML object>"
      ]
     },
     "execution_count": 23,
     "metadata": {},
     "output_type": "execute_result"
    }
   ],
   "source": [
    "# Combination\n",
    "query = { \n",
    "    \"yql\": \"select * from sources * where userQuery() AND category contains 'Electronics' and price > 50\",\n",
    "    \"query\": \"Wireless\",\n",
    "    \"hits\":10\n",
    "}\n",
    "HTML(exec_query(query))"
   ]
  },
  {
   "cell_type": "code",
   "execution_count": null,
   "id": "c88ead6f-e26e-498f-8b89-cd42ddcc3221",
   "metadata": {},
   "outputs": [],
   "source": []
  }
 ],
 "metadata": {
  "kernelspec": {
   "display_name": "Python 3 (ipykernel)",
   "language": "python",
   "name": "python3"
  },
  "language_info": {
   "codemirror_mode": {
    "name": "ipython",
    "version": 3
   },
   "file_extension": ".py",
   "mimetype": "text/x-python",
   "name": "python",
   "nbconvert_exporter": "python",
   "pygments_lexer": "ipython3",
   "version": "3.12.3"
  }
 },
 "nbformat": 4,
 "nbformat_minor": 5
}
